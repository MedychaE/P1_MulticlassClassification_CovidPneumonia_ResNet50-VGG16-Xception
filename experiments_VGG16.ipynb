{
 "cells": [
  {
   "cell_type": "markdown",
   "metadata": {},
   "source": [
    "## 1. Import Library"
   ]
  },
  {
   "cell_type": "code",
   "execution_count": 2,
   "metadata": {},
   "outputs": [],
   "source": [
    "import tensorflow as tf\n",
    "import pandas as pd\n",
    "import datetime\n",
    "import pickle\n",
    "import seaborn as sns\n",
    "import numpy as np\n",
    "import matplotlib.pyplot as plt\n",
    "\n",
    "from tensorflow.keras.models import Model\n",
    "from tensorflow.keras.models import Sequential\n",
    "from tensorflow.keras.layers import Dense\n",
    "from tensorflow.keras.callbacks import EarlyStopping, TensorBoard\n",
    "from tensorflow.keras.preprocessing.image import ImageDataGenerator\n",
    "from keras.applications.vgg16 import VGG16\n",
    "from tensorflow.keras import optimizers\n",
    "from sklearn.preprocessing import OneHotEncoder\n",
    "from sklearn.model_selection import train_test_split\n",
    "from sklearn.preprocessing import StandardScaler, LabelEncoder\n",
    "from sklearn.metrics import confusion_matrix, accuracy_score, cohen_kappa_score, roc_auc_score, auc, recall_score, precision_score, f1_score\n",
    "from sklearn.metrics import classification_report\n",
    "from sklearn import metrics\n",
    "from sklearn.preprocessing import LabelBinarizer"
   ]
  },
  {
   "cell_type": "markdown",
   "metadata": {},
   "source": [
    "## 2. Preprocessing Data"
   ]
  },
  {
   "cell_type": "code",
   "execution_count": 3,
   "metadata": {},
   "outputs": [],
   "source": [
    "train_path='Dataset/train/'\n",
    "test_path='Dataset/test/'\n",
    "num_classes=3"
   ]
  },
  {
   "cell_type": "code",
   "execution_count": 4,
   "metadata": {},
   "outputs": [
    {
     "name": "stdout",
     "output_type": "stream",
     "text": [
      "Found 390 images belonging to 3 classes.\n"
     ]
    }
   ],
   "source": [
    "train_batches=ImageDataGenerator(rescale=1./255).flow_from_directory(train_path, target_size=(244,244), \n",
    "                                                                     color_mode='rgb', batch_size=30, shuffle=True)"
   ]
  },
  {
   "cell_type": "markdown",
   "metadata": {},
   "source": [
    "## 3. Create The Model"
   ]
  },
  {
   "cell_type": "code",
   "execution_count": 5,
   "metadata": {},
   "outputs": [
    {
     "name": "stdout",
     "output_type": "stream",
     "text": [
      "WARNING:tensorflow:From c:\\Users\\LENOVO\\Desktop\\Portfolio_AI\\P1_MulticlassClassification_CovidPneumonia_ResNet50\\venv\\Lib\\site-packages\\keras\\src\\backend.py:1398: The name tf.executing_eagerly_outside_functions is deprecated. Please use tf.compat.v1.executing_eagerly_outside_functions instead.\n",
      "\n",
      "WARNING:tensorflow:From c:\\Users\\LENOVO\\Desktop\\Portfolio_AI\\P1_MulticlassClassification_CovidPneumonia_ResNet50\\venv\\Lib\\site-packages\\keras\\src\\layers\\pooling\\max_pooling2d.py:161: The name tf.nn.max_pool is deprecated. Please use tf.nn.max_pool2d instead.\n",
      "\n",
      "Downloading data from https://storage.googleapis.com/tensorflow/keras-applications/vgg16/vgg16_weights_tf_dim_ordering_tf_kernels.h5\n",
      "553467096/553467096 [==============================] - 178s 0us/step\n"
     ]
    }
   ],
   "source": [
    "model=VGG16(weights='imagenet', include_top=True)\n",
    "model.layers.pop()\n",
    "new_layer=Dense(num_classes, activation='softmax', name='prediction_1')\n",
    "model=Model(model.input, new_layer(model.layers[-1].output))"
   ]
  },
  {
   "cell_type": "code",
   "execution_count": 6,
   "metadata": {},
   "outputs": [
    {
     "name": "stdout",
     "output_type": "stream",
     "text": [
      "Model: \"model\"\n",
      "_________________________________________________________________\n",
      " Layer (type)                Output Shape              Param #   \n",
      "=================================================================\n",
      " input_1 (InputLayer)        [(None, 224, 224, 3)]     0         \n",
      "                                                                 \n",
      " block1_conv1 (Conv2D)       (None, 224, 224, 64)      1792      \n",
      "                                                                 \n",
      " block1_conv2 (Conv2D)       (None, 224, 224, 64)      36928     \n",
      "                                                                 \n",
      " block1_pool (MaxPooling2D)  (None, 112, 112, 64)      0         \n",
      "                                                                 \n",
      " block2_conv1 (Conv2D)       (None, 112, 112, 128)     73856     \n",
      "                                                                 \n",
      " block2_conv2 (Conv2D)       (None, 112, 112, 128)     147584    \n",
      "                                                                 \n",
      " block2_pool (MaxPooling2D)  (None, 56, 56, 128)       0         \n",
      "                                                                 \n",
      " block3_conv1 (Conv2D)       (None, 56, 56, 256)       295168    \n",
      "                                                                 \n",
      " block3_conv2 (Conv2D)       (None, 56, 56, 256)       590080    \n",
      "                                                                 \n",
      " block3_conv3 (Conv2D)       (None, 56, 56, 256)       590080    \n",
      "                                                                 \n",
      " block3_pool (MaxPooling2D)  (None, 28, 28, 256)       0         \n",
      "                                                                 \n",
      " block4_conv1 (Conv2D)       (None, 28, 28, 512)       1180160   \n",
      "                                                                 \n",
      " block4_conv2 (Conv2D)       (None, 28, 28, 512)       2359808   \n",
      "                                                                 \n",
      " block4_conv3 (Conv2D)       (None, 28, 28, 512)       2359808   \n",
      "                                                                 \n",
      " block4_pool (MaxPooling2D)  (None, 14, 14, 512)       0         \n",
      "                                                                 \n",
      " block5_conv1 (Conv2D)       (None, 14, 14, 512)       2359808   \n",
      "                                                                 \n",
      " block5_conv2 (Conv2D)       (None, 14, 14, 512)       2359808   \n",
      "                                                                 \n",
      " block5_conv3 (Conv2D)       (None, 14, 14, 512)       2359808   \n",
      "                                                                 \n",
      " block5_pool (MaxPooling2D)  (None, 7, 7, 512)         0         \n",
      "                                                                 \n",
      " flatten (Flatten)           (None, 25088)             0         \n",
      "                                                                 \n",
      " fc1 (Dense)                 (None, 4096)              102764544 \n",
      "                                                                 \n",
      " fc2 (Dense)                 (None, 4096)              16781312  \n",
      "                                                                 \n",
      " predictions (Dense)         (None, 1000)              4097000   \n",
      "                                                                 \n",
      " prediction_1 (Dense)        (None, 3)                 3003      \n",
      "                                                                 \n",
      "=================================================================\n",
      "Total params: 138360547 (527.80 MB)\n",
      "Trainable params: 138360547 (527.80 MB)\n",
      "Non-trainable params: 0 (0.00 Byte)\n",
      "_________________________________________________________________\n"
     ]
    }
   ],
   "source": [
    "model.summary()"
   ]
  },
  {
   "cell_type": "markdown",
   "metadata": {},
   "source": [
    "## 4. Training The Model"
   ]
  },
  {
   "cell_type": "code",
   "execution_count": 7,
   "metadata": {},
   "outputs": [
    {
     "name": "stderr",
     "output_type": "stream",
     "text": [
      "c:\\Users\\LENOVO\\Desktop\\Portfolio_AI\\P1_MulticlassClassification_CovidPneumonia_ResNet50\\venv\\Lib\\site-packages\\keras\\src\\optimizers\\legacy\\gradient_descent.py:114: UserWarning: The `lr` argument is deprecated, use `learning_rate` instead.\n",
      "  super().__init__(name, **kwargs)\n"
     ]
    }
   ],
   "source": [
    "sgd=tf.keras.optimizers.legacy.SGD(lr=0.0001, decay=0.0001)\n",
    "model.compile(sgd, loss='categorical_crossentropy', metrics=['accuracy'])"
   ]
  },
  {
   "cell_type": "code",
   "execution_count": 8,
   "metadata": {},
   "outputs": [],
   "source": [
    "class Callback(tf.keras.callbacks.Callback):\n",
    "    def on_epoch_end(self, epoch, logs={}):\n",
    "        if(logs.get('accuracy') > 0.97 and logs.get('val_accuracy') > 0.97):\n",
    "            self.model.stop_training=True\n",
    "\n",
    "stopTraining=Callback()"
   ]
  },
  {
   "cell_type": "code",
   "execution_count": 9,
   "metadata": {},
   "outputs": [
    {
     "name": "stderr",
     "output_type": "stream",
     "text": [
      "C:\\Users\\LENOVO\\AppData\\Local\\Temp\\ipykernel_4648\\2803618879.py:1: UserWarning: `Model.fit_generator` is deprecated and will be removed in a future version. Please use `Model.fit`, which supports generators.\n",
      "  history=model.fit_generator(train_batches, epochs=10, verbose=1)\n"
     ]
    },
    {
     "name": "stdout",
     "output_type": "stream",
     "text": [
      "Epoch 1/10\n",
      "WARNING:tensorflow:From c:\\Users\\LENOVO\\Desktop\\Portfolio_AI\\P1_MulticlassClassification_CovidPneumonia_ResNet50\\venv\\Lib\\site-packages\\keras\\src\\utils\\tf_utils.py:492: The name tf.ragged.RaggedTensorValue is deprecated. Please use tf.compat.v1.ragged.RaggedTensorValue instead.\n",
      "\n",
      "WARNING:tensorflow:From c:\\Users\\LENOVO\\Desktop\\Portfolio_AI\\P1_MulticlassClassification_CovidPneumonia_ResNet50\\venv\\Lib\\site-packages\\keras\\src\\engine\\base_layer_utils.py:384: The name tf.executing_eagerly_outside_functions is deprecated. Please use tf.compat.v1.executing_eagerly_outside_functions instead.\n",
      "\n",
      "13/13 [==============================] - 580s 43s/step - loss: 1.0973 - accuracy: 0.4462\n",
      "Epoch 2/10\n",
      "13/13 [==============================] - 517s 40s/step - loss: 1.0973 - accuracy: 0.4487\n",
      "Epoch 3/10\n",
      "13/13 [==============================] - 513s 40s/step - loss: 1.0973 - accuracy: 0.4462\n",
      "Epoch 4/10\n",
      "13/13 [==============================] - 500s 38s/step - loss: 1.0973 - accuracy: 0.4513\n",
      "Epoch 5/10\n",
      "13/13 [==============================] - 503s 39s/step - loss: 1.0973 - accuracy: 0.4487\n",
      "Epoch 6/10\n",
      "13/13 [==============================] - 517s 40s/step - loss: 1.0973 - accuracy: 0.4487\n",
      "Epoch 7/10\n",
      "13/13 [==============================] - 489s 37s/step - loss: 1.0972 - accuracy: 0.4590\n",
      "Epoch 8/10\n",
      "13/13 [==============================] - 527s 40s/step - loss: 1.0972 - accuracy: 0.4590\n",
      "Epoch 9/10\n",
      "13/13 [==============================] - 505s 39s/step - loss: 1.0972 - accuracy: 0.4590\n",
      "Epoch 10/10\n",
      "13/13 [==============================] - 607s 47s/step - loss: 1.0972 - accuracy: 0.4615\n"
     ]
    }
   ],
   "source": [
    "history=model.fit_generator(train_batches, epochs=10, verbose=1)"
   ]
  },
  {
   "cell_type": "markdown",
   "metadata": {},
   "source": [
    "## 5. Prediksi Data Uji"
   ]
  },
  {
   "cell_type": "code",
   "execution_count": 10,
   "metadata": {},
   "outputs": [
    {
     "name": "stdout",
     "output_type": "stream",
     "text": [
      "Found 150 images belonging to 3 classes.\n"
     ]
    },
    {
     "name": "stderr",
     "output_type": "stream",
     "text": [
      "C:\\Users\\LENOVO\\AppData\\Local\\Temp\\ipykernel_4648\\3610195978.py:3: UserWarning: `Model.predict_generator` is deprecated and will be removed in a future version. Please use `Model.predict`, which supports generators.\n",
      "  predicts_vectors=model.predict_generator(test_generator, verbose=1)\n"
     ]
    },
    {
     "name": "stdout",
     "output_type": "stream",
     "text": [
      "3/3 [==============================] - 69s 12s/step\n"
     ]
    }
   ],
   "source": [
    "test_datagen=ImageDataGenerator(rescale=1./255)\n",
    "test_generator=test_datagen.flow_from_directory(test_path, batch_size=64, shuffle=False, target_size=(224,224))\n",
    "predicts_vectors=model.predict_generator(test_generator, verbose=1)"
   ]
  },
  {
   "cell_type": "code",
   "execution_count": 11,
   "metadata": {},
   "outputs": [],
   "source": [
    "pred=np.argmax(predicts_vectors, axis=1)"
   ]
  },
  {
   "cell_type": "markdown",
   "metadata": {},
   "source": [
    "## 6. Validasi Hasil Prediksi Data Uji"
   ]
  },
  {
   "cell_type": "code",
   "execution_count": 12,
   "metadata": {},
   "outputs": [],
   "source": [
    "\n",
    "lb=LabelBinarizer()\n",
    "lb.fit(test_generator.labels)\n",
    "\n",
    "y_test=lb.transform(test_generator.labels)\n",
    "y_pred=lb.transform(pred)\n",
    "\n",
    "auc_score=roc_auc_score(y_test, y_pred, average=\"macro\")"
   ]
  },
  {
   "cell_type": "code",
   "execution_count": 13,
   "metadata": {},
   "outputs": [
    {
     "name": "stderr",
     "output_type": "stream",
     "text": [
      "c:\\Users\\LENOVO\\Desktop\\Portfolio_AI\\P1_MulticlassClassification_CovidPneumonia_ResNet50\\venv\\Lib\\site-packages\\sklearn\\metrics\\_classification.py:1531: UndefinedMetricWarning: Precision is ill-defined and being set to 0.0 in labels with no predicted samples. Use `zero_division` parameter to control this behavior.\n",
      "  _warn_prf(average, modifier, f\"{metric.capitalize()} is\", len(result))\n"
     ]
    }
   ],
   "source": [
    "y_true=test_generator.labels\n",
    "y_pred=pred\n",
    "\n",
    "recall=recall_score(y_true, y_pred, average='macro')\n",
    "precision=precision_score(y_true, y_pred, average='macro')\n",
    "f1=f1_score(y_true, y_pred, average='macro')\n",
    "kappa=cohen_kappa_score(test_generator.labels, pred)\n",
    "acc=accuracy_score(test_generator.labels, pred)"
   ]
  },
  {
   "cell_type": "code",
   "execution_count": 14,
   "metadata": {},
   "outputs": [
    {
     "name": "stdout",
     "output_type": "stream",
     "text": [
      "[0 0 0 0 0 0 0 0 0 0 0 0 0 0 0 0 0 0 0 0 0 0 0 0 0 0 0 0 0 0 0 0 0 0 0 0 0\n",
      " 0 0 0 0 0 0 0 0 0 0 0 0 0 1 1 1 1 1 1 1 1 1 1 1 1 1 1 1 1 1 1 1 1 1 1 1 1\n",
      " 1 1 1 1 1 1 1 1 1 1 1 1 1 1 1 1 1 1 1 1 1 1 1 1 1 1 2 2 2 2 2 2 2 2 2 2 2\n",
      " 2 2 2 2 2 2 2 2 2 2 2 2 2 2 2 2 2 2 2 2 2 2 2 2 2 2 2 2 2 2 2 2 2 2 2 2 2\n",
      " 2 2]\n"
     ]
    }
   ],
   "source": [
    "print(y_true)"
   ]
  },
  {
   "cell_type": "code",
   "execution_count": 15,
   "metadata": {},
   "outputs": [
    {
     "name": "stdout",
     "output_type": "stream",
     "text": [
      "[0 0 0 0 0 0 0 0 0 0 0 0 0 0 0 0 0 0 0 0 0 0 0 0 0 0 0 0 0 0 0 0 0 0 0 0 0\n",
      " 0 0 0 0 0 0 0 0 0 2 0 0 2 2 2 2 2 2 2 0 2 2 0 2 2 2 2 2 2 2 2 2 2 2 2 2 2\n",
      " 2 0 0 0 0 0 0 0 2 0 0 2 0 0 2 2 2 2 2 2 2 2 2 2 2 2 2 0 0 0 2 0 0 0 0 0 2\n",
      " 2 0 0 0 0 0 2 0 0 2 0 0 0 0 0 0 2 0 0 0 0 2 0 0 2 2 2 2 0 0 0 0 0 2 2 2 2\n",
      " 2 2]\n"
     ]
    }
   ],
   "source": [
    "print(y_pred)"
   ]
  },
  {
   "cell_type": "markdown",
   "metadata": {},
   "source": [
    "## Evaluation"
   ]
  },
  {
   "cell_type": "code",
   "execution_count": 16,
   "metadata": {},
   "outputs": [
    {
     "name": "stdout",
     "output_type": "stream",
     "text": [
      ">>>> RESULT <<<<\n",
      "Accuracy: 44.0\n",
      "Recall: 43.99999999999999\n",
      "Precision: 27.7306168647425\n",
      "F1-Score: 0.33592575648650413\n",
      "AUC: 0.58\n",
      "Kappa: 0.16000000000000003\n"
     ]
    }
   ],
   "source": [
    "print('>>>> RESULT <<<<')\n",
    "print('Accuracy: {}'.format(acc*100))\n",
    "print('Recall: {}'.format(recall*100))\n",
    "print('Precision: {}'.format(precision*100))\n",
    "print('F1-Score: {}'.format(f1))\n",
    "print('AUC: {}'.format(auc_score))\n",
    "print('Kappa: {}'.format(kappa))"
   ]
  },
  {
   "cell_type": "code",
   "execution_count": 17,
   "metadata": {},
   "outputs": [
    {
     "name": "stdout",
     "output_type": "stream",
     "text": [
      "              precision    recall  f1-score   support\n",
      "\n",
      "           0       0.52      0.96      0.67        50\n",
      "           1       0.00      0.00      0.00        50\n",
      "           2       0.32      0.36      0.34        50\n",
      "\n",
      "    accuracy                           0.44       150\n",
      "   macro avg       0.28      0.44      0.34       150\n",
      "weighted avg       0.28      0.44      0.34       150\n",
      "\n"
     ]
    },
    {
     "name": "stderr",
     "output_type": "stream",
     "text": [
      "c:\\Users\\LENOVO\\Desktop\\Portfolio_AI\\P1_MulticlassClassification_CovidPneumonia_ResNet50\\venv\\Lib\\site-packages\\sklearn\\metrics\\_classification.py:1531: UndefinedMetricWarning: Precision is ill-defined and being set to 0.0 in labels with no predicted samples. Use `zero_division` parameter to control this behavior.\n",
      "  _warn_prf(average, modifier, f\"{metric.capitalize()} is\", len(result))\n",
      "c:\\Users\\LENOVO\\Desktop\\Portfolio_AI\\P1_MulticlassClassification_CovidPneumonia_ResNet50\\venv\\Lib\\site-packages\\sklearn\\metrics\\_classification.py:1531: UndefinedMetricWarning: Precision is ill-defined and being set to 0.0 in labels with no predicted samples. Use `zero_division` parameter to control this behavior.\n",
      "  _warn_prf(average, modifier, f\"{metric.capitalize()} is\", len(result))\n",
      "c:\\Users\\LENOVO\\Desktop\\Portfolio_AI\\P1_MulticlassClassification_CovidPneumonia_ResNet50\\venv\\Lib\\site-packages\\sklearn\\metrics\\_classification.py:1531: UndefinedMetricWarning: Precision is ill-defined and being set to 0.0 in labels with no predicted samples. Use `zero_division` parameter to control this behavior.\n",
      "  _warn_prf(average, modifier, f\"{metric.capitalize()} is\", len(result))\n"
     ]
    }
   ],
   "source": [
    "print(classification_report(y_true, y_pred))"
   ]
  },
  {
   "cell_type": "code",
   "execution_count": 18,
   "metadata": {},
   "outputs": [
    {
     "data": {
      "image/png": "[encoded data removed]",
      "text/plain": [
       "<Figure size 800x800 with 1 Axes>"
      ]
     },
     "metadata": {},
     "output_type": "display_data"
    },
    {
     "name": "stdout",
     "output_type": "stream",
     "text": [
      "Accuracy: 0.4400\n",
      "Sensitivity: 0.9600\n",
      "Specificity: 0.0000\n"
     ]
    }
   ],
   "source": [
    "cm=confusion_matrix(y_test.argmax(axis=1), y_pred)\n",
    "total=sum(sum(cm))\n",
    "acc = (cm[0,0] + cm[1,1] + cm[2,2]) / total\n",
    "sensitivity = cm[0,0] / (cm[0,0] + cm[0,1] + cm[0,2])\n",
    "specificity = cm[1,1] / (cm[1,0] + cm[1,1] + cm[1,2])\n",
    "\n",
    "# Plot Confusion Matrix\n",
    "fig,ax = plt.subplots(figsize=(8,8))\n",
    "ax.imshow(cm, cmap='magma')\n",
    "ax.set_title(\"Confusion Matrix\")\n",
    "ax.grid(False)\n",
    "ax.xaxis.set(ticks=(0,1,2), ticklabels=('Covid_Predicted', 'Pneumonia_Predicted', 'Sehat_Predicted'))\n",
    "ax.yaxis.set(ticks=(0,1,2), ticklabels=('Covid_Actual', 'Pneumonia_Actual', 'Sehat_Actual'))\n",
    "ax.set_ylim(1.5, -0.5)\n",
    "\n",
    "for i in range(3):\n",
    "    for j in range(3):\n",
    "        ax.text(j, i, cm[i,j], ha='center', color='red')\n",
    "plt.show()\n",
    "\n",
    "print(\"Accuracy: {:.4f}\". format(acc))\n",
    "print(\"Sensitivity: {:.4f}\".format(sensitivity))\n",
    "print(\"Specificity: {:.4f}\".format(specificity))"
   ]
  },
  {
   "cell_type": "code",
   "execution_count": null,
   "metadata": {},
   "outputs": [],
   "source": [
    " "
   ]
  }
 ],
 "metadata": {
  "kernelspec": {
   "display_name": "Python 3",
   "language": "python",
   "name": "python3"
  },
  "language_info": {
   "codemirror_mode": {
    "name": "ipython",
    "version": 3
   },
   "file_extension": ".py",
   "mimetype": "text/x-python",
   "name": "python",
   "nbconvert_exporter": "python",
   "pygments_lexer": "ipython3",
   "version": "3.11.0"
  }
 },
 "nbformat": 4,
 "nbformat_minor": 2
}
